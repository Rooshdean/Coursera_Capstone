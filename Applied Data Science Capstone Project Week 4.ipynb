{
 "cells": [
  {
   "cell_type": "markdown",
   "metadata": {},
   "source": [
    "# Capstone Project- Restuarant Opening Analysis "
   ]
  },
  {
   "cell_type": "markdown",
   "metadata": {},
   "source": [
    "## Applied Data Science Capstone (week 4) "
   ]
  },
  {
   "cell_type": "markdown",
   "metadata": {},
   "source": [
    "## Introduction"
   ]
  },
  {
   "cell_type": "markdown",
   "metadata": {},
   "source": [
    "#### Canada is a country that has such high a regard for family and quality of life. Most people in the world first think of immigrating to Canada before any other country because of this. The world loves food and there can never be enough options when in any country or area. Toronto being the capital has so much potential for entrepeneurs. Toronto is arguably one of the most interesting places in the world. Toronto is home to 8,100 restaurants and bars, representing 6.5% of all businesses in the city. The multicultural population of the GTA is expected to reach 9 million people by 2036. Indicating that the demand and need for more resturants and bars will increase. We want to etablish, by doing some analysis, which area in Toronto would be the best to set up a new restuarant.\n",
    "\n",
    "#### Marketing consultants has determined that we must pay special attention to entertainment services, because they are considered attractive to potential customers. It's very common that people go to the restuarant after the theatre or other kind of social activities.\n",
    "#### We also must take into account other food services offerings that could be considered in some cases rivalry or, in other cases, complementary."
   ]
  },
  {
   "cell_type": "markdown",
   "metadata": {},
   "source": [
    "## Data \n",
    "\n",
    "#### In order to meet the above objectives, several data sources are required. We need to etablish which area in Toronto has the best opportunity for a restuarant business to be succesful. \n",
    "\n",
    "### Canada Data\n",
    "##### Web scraping of Canada data on wikipedia for list of postal codes and areas.\n",
    "\n",
    "### Geolocation\n",
    "##### For geolocation of the Toronto neighborhoods, Python geocorder will be used.\n",
    "\n",
    "### Foursquare location data\n",
    "##### Foursquare provides venue data for Toronto resturants of interest\n",
    "##### In the following we will compile the aborementioned data in dataframes and quickly characterize their properties.\n",
    "\n"
   ]
  },
  {
   "cell_type": "code",
   "execution_count": null,
   "metadata": {},
   "outputs": [],
   "source": []
  }
 ],
 "metadata": {
  "kernelspec": {
   "display_name": "Python 3",
   "language": "python",
   "name": "python3"
  },
  "language_info": {
   "codemirror_mode": {
    "name": "ipython",
    "version": 3
   },
   "file_extension": ".py",
   "mimetype": "text/x-python",
   "name": "python",
   "nbconvert_exporter": "python",
   "pygments_lexer": "ipython3",
   "version": "3.7.3"
  }
 },
 "nbformat": 4,
 "nbformat_minor": 2
}
